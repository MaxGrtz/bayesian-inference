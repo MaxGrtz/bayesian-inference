{
 "cells": [
  {
   "cell_type": "code",
   "execution_count": 184,
   "metadata": {},
   "outputs": [],
   "source": [
    "import warnings\n",
    "\n",
    "from collections import OrderedDict\n",
    "import functools\n",
    "import numpy as np\n",
    "import pandas as pd\n",
    "import matplotlib.pyplot as plt\n",
    "\n",
    "import seaborn as sns\n",
    "# use ggplot styles for graphs\n",
    "plt.style.use('ggplot')\n",
    "\n",
    "import arviz as az\n",
    "warnings.filterwarnings(\"ignore\")\n",
    "warnings.simplefilter('ignore')"
   ]
  },
  {
   "cell_type": "code",
   "execution_count": 185,
   "metadata": {},
   "outputs": [],
   "source": [
    "import tensorflow as tf\n",
    "import tensorflow_probability as tfp\n",
    "import pymc3 as pm\n",
    "\n",
    "# set tf logger to log level ERROR to avoid warnings\n",
    "tf.get_logger().setLevel('ERROR')\n",
    "\n",
    "tfd = tfp.distributions\n",
    "tfb = tfp.bijectors\n",
    "tfk = tf.keras"
   ]
  },
  {
   "cell_type": "code",
   "execution_count": 186,
   "metadata": {},
   "outputs": [],
   "source": [
    "# import probabilistic models\n",
    "from bayes_vi.model import Model\n",
    "\n",
    "# import utils\n",
    "from bayes_vi.utils.datasets import make_dataset_from_df"
   ]
  },
  {
   "cell_type": "code",
   "execution_count": 187,
   "metadata": {},
   "outputs": [],
   "source": [
    "# mcmc imports\n",
    "from bayes_vi.inference.mcmc import MCMC\n",
    "from bayes_vi.inference.mcmc.transition_kernels import HamiltonianMonteCarlo, NoUTurnSampler, RandomWalkMetropolis\n",
    "from bayes_vi.inference.mcmc.stepsize_adaptation_kernels import SimpleStepSizeAdaptation, DualAveragingStepSizeAdaptation"
   ]
  },
  {
   "cell_type": "code",
   "execution_count": 188,
   "metadata": {},
   "outputs": [],
   "source": [
    "# vi imports \n",
    "from bayes_vi.inference.vi import VI\n",
    "\n",
    "from bayes_vi.inference.vi.surrogate_posteriors import ADVI, NormalizingFlow\n",
    "from bayes_vi.utils import to_ordered_dict\n",
    "from bayes_vi.inference.vi.flow_bijectors import HamiltonianFlow, AffineFlow, make_energy_fn, make_scale_fn, make_shift_fn\n",
    "from bayes_vi.utils.leapfrog_integrator import LeapfrogIntegrator"
   ]
  },
  {
   "cell_type": "markdown",
   "metadata": {},
   "source": [
    "# Univariate Mixture of Gaussians"
   ]
  },
  {
   "cell_type": "markdown",
   "metadata": {},
   "source": [
    "## 1. Generate Test Data"
   ]
  },
  {
   "cell_type": "code",
   "execution_count": 189,
   "metadata": {},
   "outputs": [],
   "source": [
    "# generate parameters for the \"true\" underlying mixture model\n",
    "num_datapoints = 100\n",
    "\n",
    "true_component_n = 3\n",
    "\n",
    "true_locs = tf.constant(np.random.choice(a=list(range(-20,20+1)), size=true_component_n), dtype=tf.float32)\n",
    "\n",
    "true_scales = tf.constant(np.random.choice(a=list(range(1, 3+1)), size=true_component_n), dtype=tf.float32)\n",
    "\n",
    "selected_component = np.random.randint(0, true_component_n, 50)\n",
    "true_component_weights = tf.constant(np.histogram(a=selected_component, bins=np.arange(true_component_n+1))[0]/selected_component.size, dtype=tf.float32)"
   ]
  },
  {
   "cell_type": "code",
   "execution_count": 190,
   "metadata": {},
   "outputs": [
    {
     "data": {
      "text/plain": [
       "(<tf.Tensor: shape=(3,), dtype=float32, numpy=array([0.44, 0.24, 0.32], dtype=float32)>,\n",
       " <tf.Tensor: shape=(3,), dtype=float32, numpy=array([12.,  2., 17.], dtype=float32)>,\n",
       " <tf.Tensor: shape=(3,), dtype=float32, numpy=array([2., 2., 2.], dtype=float32)>)"
      ]
     },
     "execution_count": 190,
     "metadata": {},
     "output_type": "execute_result"
    }
   ],
   "source": [
    "true_component_weights, true_locs, true_scales"
   ]
  },
  {
   "cell_type": "code",
   "execution_count": 191,
   "metadata": {},
   "outputs": [
    {
     "data": {
      "text/plain": [
       "(TensorShape([100]), tf.float32)"
      ]
     },
     "execution_count": 191,
     "metadata": {},
     "output_type": "execute_result"
    }
   ],
   "source": [
    "# create data generating mixture of gaussians\n",
    "true_mvns = tfd.Normal(true_locs, true_scales)\n",
    "\n",
    "true_mixture = tfd.MixtureSameFamily(\n",
    "    mixture_distribution=tfd.Categorical(probs=true_component_weights),\n",
    "    components_distribution=true_mvns\n",
    ")\n",
    "\n",
    "# generate data points by sampling from the distribution\n",
    "y = true_mixture.sample(num_datapoints)\n",
    "y.shape, y.dtype"
   ]
  },
  {
   "cell_type": "code",
   "execution_count": 192,
   "metadata": {},
   "outputs": [
    {
     "data": {
      "text/html": [
       "<div>\n",
       "<style scoped>\n",
       "    .dataframe tbody tr th:only-of-type {\n",
       "        vertical-align: middle;\n",
       "    }\n",
       "\n",
       "    .dataframe tbody tr th {\n",
       "        vertical-align: top;\n",
       "    }\n",
       "\n",
       "    .dataframe thead th {\n",
       "        text-align: right;\n",
       "    }\n",
       "</style>\n",
       "<table border=\"1\" class=\"dataframe\">\n",
       "  <thead>\n",
       "    <tr style=\"text-align: right;\">\n",
       "      <th></th>\n",
       "      <th>y</th>\n",
       "    </tr>\n",
       "  </thead>\n",
       "  <tbody>\n",
       "    <tr>\n",
       "      <th>0</th>\n",
       "      <td>3.101749</td>\n",
       "    </tr>\n",
       "    <tr>\n",
       "      <th>1</th>\n",
       "      <td>16.855097</td>\n",
       "    </tr>\n",
       "    <tr>\n",
       "      <th>2</th>\n",
       "      <td>12.738707</td>\n",
       "    </tr>\n",
       "    <tr>\n",
       "      <th>3</th>\n",
       "      <td>10.123860</td>\n",
       "    </tr>\n",
       "    <tr>\n",
       "      <th>4</th>\n",
       "      <td>17.218695</td>\n",
       "    </tr>\n",
       "  </tbody>\n",
       "</table>\n",
       "</div>"
      ],
      "text/plain": [
       "           y\n",
       "0   3.101749\n",
       "1  16.855097\n",
       "2  12.738707\n",
       "3  10.123860\n",
       "4  17.218695"
      ]
     },
     "execution_count": 192,
     "metadata": {},
     "output_type": "execute_result"
    }
   ],
   "source": [
    "# construct pd.DataFrame\n",
    "data = pd.DataFrame({'y': y})\n",
    "data.head(5)"
   ]
  },
  {
   "cell_type": "code",
   "execution_count": 193,
   "metadata": {},
   "outputs": [
    {
     "data": {
      "text/plain": [
       "<AxesSubplot:ylabel='Density'>"
      ]
     },
     "execution_count": 193,
     "metadata": {},
     "output_type": "execute_result"
    },
    {
     "data": {
      "image/png": "[encoded data removed]",
      "text/plain": [
       "<Figure size 432x288 with 1 Axes>"
      ]
     },
     "metadata": {},
     "output_type": "display_data"
    }
   ],
   "source": [
    "data.plot(kind='kde')"
   ]
  },
  {
   "cell_type": "code",
   "execution_count": 18,
   "metadata": {},
   "outputs": [
    {
     "data": {
      "text/plain": [
       "<TensorSliceDataset shapes: ((), ()), types: (tf.float32, tf.float32)>"
      ]
     },
     "execution_count": 18,
     "metadata": {},
     "output_type": "execute_result"
    }
   ],
   "source": [
    "dataset = make_dataset_from_df(data, target_names=['y'], format_features_as='dict')\n",
    "dataset"
   ]
  },
  {
   "cell_type": "markdown",
   "metadata": {},
   "source": [
    "## 2. Define Model"
   ]
  },
  {
   "cell_type": "code",
   "execution_count": 19,
   "metadata": {},
   "outputs": [],
   "source": [
    "# assumed number of underlying gaussian distributions\n",
    "max_components = true_component_n"
   ]
  },
  {
   "cell_type": "code",
   "execution_count": 20,
   "metadata": {},
   "outputs": [],
   "source": [
    "priors = OrderedDict(\n",
    "    # prior for the weights of the individual gaussians\n",
    "    weights = tfd.Dirichlet(\n",
    "        concentration=tf.ones(max_components)\n",
    "    ),\n",
    "    # priors for the locations i.e. means of the gaussian components\n",
    "    loc = tfd.Normal(\n",
    "        loc=tf.zeros([max_components]),\n",
    "        scale=tf.ones([max_components])*10.0\n",
    "    ),\n",
    "    # priors for the scale i.e. stddev of the gaussian components\n",
    "    scale = tfd.HalfNormal(\n",
    "        scale=tf.ones([max_components])*10.0\n",
    "    )\n",
    ")\n",
    "\n",
    "# likelihood defining the gaussian mixture model\n",
    "def likelihood(weights, loc, scale):\n",
    "    return tfd.MixtureSameFamily(\n",
    "        mixture_distribution=tfd.Categorical(probs=weights),\n",
    "        components_distribution=tfd.Normal(\n",
    "            loc=loc, \n",
    "            scale=scale\n",
    "        )\n",
    "    )\n"
   ]
  },
  {
   "cell_type": "code",
   "execution_count": 21,
   "metadata": {},
   "outputs": [
    {
     "data": {
      "text/plain": [
       "<bayes_vi.model.Model at 0x7f82c0b7d250>"
      ]
     },
     "execution_count": 21,
     "metadata": {},
     "output_type": "execute_result"
    }
   ],
   "source": [
    "# construct model\n",
    "model = Model(\n",
    "    priors=priors,\n",
    "    likelihood=likelihood,\n",
    ")\n",
    "model"
   ]
  },
  {
   "cell_type": "code",
   "execution_count": 22,
   "metadata": {},
   "outputs": [
    {
     "data": {
      "text/plain": [
       "<tensorflow_probability.python.bijectors.chain.Chain at 0x7f82c10461c0>"
      ]
     },
     "execution_count": 22,
     "metadata": {},
     "output_type": "execute_result"
    }
   ],
   "source": [
    "model.blockwise_constraining_bijector"
   ]
  },
  {
   "cell_type": "markdown",
   "metadata": {},
   "source": [
    "## 3. Variational Inference"
   ]
  },
  {
   "cell_type": "markdown",
   "metadata": {},
   "source": [
    "### Various Flow Bijectors"
   ]
  },
  {
   "cell_type": "code",
   "execution_count": 23,
   "metadata": {},
   "outputs": [],
   "source": [
    "def get_continuous_flow_bijector(unconstrained_event_dims):\n",
    "    state_fn = tfk.Sequential()\n",
    "    state_fn.add(tfk.layers.Dense(128, activation=tfk.activations.tanh))\n",
    "    state_fn.add(tfk.layers.Dense(128, activation=tfk.activations.tanh))\n",
    "    state_fn.add(tfk.layers.Dense(unconstrained_event_dims))\n",
    "    state_fn.build((None, unconstrained_event_dims+1))\n",
    "    state_time_derivative_fn = lambda t, state: state_fn(tf.concat([tf.fill((state.shape[0],1), t), state], axis=-1))\n",
    "    return tfb.FFJORD(state_time_derivative_fn, \n",
    "                      ode_solve_fn=tfp.math.ode.DormandPrince(first_step_size=0.1).solve, \n",
    "                      trace_augmentation_fn=tfb.ffjord.trace_jacobian_hutchinson)\n",
    "    \n",
    "def get_hamiltonian_flow_bijector(unconstrained_event_dims, num_flows):\n",
    "    return tfb.Chain([\n",
    "        HamiltonianFlow(\n",
    "            event_dims=unconstrained_event_dims,\n",
    "            symplectic_integrator=LeapfrogIntegrator(), \n",
    "            step_sizes=tf.Variable(0.1), \n",
    "            num_integration_steps=2,\n",
    "            hidden_layers=[128, 128]\n",
    "        ) for _ in range(num_flows)\n",
    "    ])\n",
    "\n",
    "def get_affine_flow_bijector(unconstrained_event_dims):\n",
    "    return AffineFlow(unconstrained_event_dims)\n"
   ]
  },
  {
   "cell_type": "code",
   "execution_count": 176,
   "metadata": {},
   "outputs": [],
   "source": [
    "step_size = tf.Variable(0.1)\n",
    "scale_fn = make_scale_fn(model.flat_unconstrained_param_event_ndims, hidden_layers=[128,128])\n",
    "shift_fn = make_shift_fn(model.flat_unconstrained_param_event_ndims, hidden_layers=[128,128])\n",
    "\n",
    "posterior_lift = lambda q: tfd.MultivariateNormalDiag(loc=shift_fn(q), scale_diag=scale_fn(q))\n",
    "\n",
    "loc = tf.Variable(tf.zeros(model.flat_unconstrained_param_event_ndims*2))\n",
    "scale = tf.Variable(tf.ones(model.flat_unconstrained_param_event_ndims*2)*0.1)"
   ]
  },
  {
   "cell_type": "markdown",
   "metadata": {},
   "source": [
    "### Various Surrogate Posteriors"
   ]
  },
  {
   "cell_type": "code",
   "execution_count": 177,
   "metadata": {},
   "outputs": [],
   "source": [
    "advi = ADVI(model, mean_field=False)\n",
    "\n",
    "hnf = NormalizingFlow(\n",
    "    model, \n",
    "    flow_bijector=get_hamiltonian_flow_bijector(model.flat_unconstrained_param_event_ndims, 2),\n",
    "    posterior_lift_distribution=posterior_lift,\n",
    "    base_distribution=tfd.MultivariateNormalDiag(loc=loc, scale_diag=scale),\n",
    "    extra_ndims=model.flat_unconstrained_param_event_ndims,\n",
    ")\n",
    " \n",
    "affine_flow = NormalizingFlow(\n",
    "    model,\n",
    "    flow_bijector=get_affine_flow_bijector(model.flat_unconstrained_param_event_ndims)\n",
    ")\n",
    "\n",
    "cnf = NormalizingFlow(\n",
    "    model,\n",
    "    flow_bijector=get_continuous_flow_bijector(model.flat_unconstrained_param_event_ndims)\n",
    ")"
   ]
  },
  {
   "cell_type": "markdown",
   "metadata": {},
   "source": [
    "### VI fit"
   ]
  },
  {
   "cell_type": "code",
   "execution_count": 178,
   "metadata": {},
   "outputs": [],
   "source": [
    "vi = VI(model, dataset, surrogate_posterior=hnf, \n",
    "        discrepancy_fn=tfp.vi.kl_reverse)"
   ]
  },
  {
   "cell_type": "code",
   "execution_count": 179,
   "metadata": {},
   "outputs": [],
   "source": [
    "NUM_STEPS = 5000\n",
    "SAMPLE_SIZE = 50\n",
    "LEARNING_RATE = 1e-3"
   ]
  },
  {
   "cell_type": "code",
   "execution_count": 180,
   "metadata": {},
   "outputs": [],
   "source": [
    "optimizer = tf.optimizers.Adam(learning_rate=LEARNING_RATE)"
   ]
  },
  {
   "cell_type": "code",
   "execution_count": 181,
   "metadata": {},
   "outputs": [
    {
     "data": {
      "text/html": [
       "\n",
       "    <div>\n",
       "        <style>\n",
       "            /* Turns off some styling */\n",
       "            progress {\n",
       "                /* gets rid of default border in Firefox and Opera. */\n",
       "                border: none;\n",
       "                /* Needs to be in here for Safari polyfill so background images work as expected. */\n",
       "                background-size: auto;\n",
       "            }\n",
       "            .progress-bar-interrupted, .progress-bar-interrupted::-webkit-progress-bar {\n",
       "                background: #F44336;\n",
       "            }\n",
       "        </style>\n",
       "      <progress value='5000' class='' max='5000' style='width:300px; height:20px; vertical-align: middle;'></progress>\n",
       "      100.00% [5000/5000 00:46<00:00 avg loss: 306.742]\n",
       "    </div>\n",
       "    "
      ],
      "text/plain": [
       "<IPython.core.display.HTML object>"
      ]
     },
     "metadata": {},
     "output_type": "display_data"
    }
   ],
   "source": [
    "approx_posterior, losses = vi.fit(optimizer=optimizer, num_steps=NUM_STEPS, sample_size=SAMPLE_SIZE)"
   ]
  },
  {
   "cell_type": "code",
   "execution_count": 182,
   "metadata": {},
   "outputs": [
    {
     "data": {
      "text/plain": [
       "[<matplotlib.lines.Line2D at 0x7f82b3ad2be0>]"
      ]
     },
     "execution_count": 182,
     "metadata": {},
     "output_type": "execute_result"
    },
    {
     "data": {
      "image/png": "[encoded data removed]",
      "text/plain": [
       "<Figure size 432x288 with 1 Axes>"
      ]
     },
     "metadata": {},
     "output_type": "display_data"
    }
   ],
   "source": [
    "plt.plot(losses)"
   ]
  },
  {
   "cell_type": "code",
   "execution_count": 161,
   "metadata": {},
   "outputs": [],
   "source": [
    "posterior_samples = approx_posterior.sample(1000)"
   ]
  },
  {
   "cell_type": "code",
   "execution_count": 150,
   "metadata": {},
   "outputs": [],
   "source": [
    "posterior_samples = OrderedDict([(k, tf.expand_dims(v, axis=1)) for k,v in posterior_samples.items()])"
   ]
  },
  {
   "cell_type": "markdown",
   "metadata": {},
   "source": [
    "#### Visualize Results"
   ]
  },
  {
   "cell_type": "code",
   "execution_count": 151,
   "metadata": {},
   "outputs": [],
   "source": [
    "func_dict = {\n",
    "    \"mean\": np.mean,\n",
    "    \"stddev\": np.std,\n",
    "    \"hdi_3%\": lambda x: np.percentile(x, 3),\n",
    "    \"mode\": lambda x: np.percentile(x, 50),\n",
    "    \"hdi_97%\": lambda x: np.percentile(x, 97),\n",
    "}"
   ]
  },
  {
   "cell_type": "code",
   "execution_count": 152,
   "metadata": {},
   "outputs": [
    {
     "name": "stderr",
     "output_type": "stream",
     "text": [
      "arviz - WARNING - Shape validation failed: input_shape: (1000, 1), minimum_shape: (chains=1, draws=4)\n"
     ]
    },
    {
     "data": {
      "text/html": [
       "<div>\n",
       "<style scoped>\n",
       "    .dataframe tbody tr th:only-of-type {\n",
       "        vertical-align: middle;\n",
       "    }\n",
       "\n",
       "    .dataframe tbody tr th {\n",
       "        vertical-align: top;\n",
       "    }\n",
       "\n",
       "    .dataframe thead th {\n",
       "        text-align: right;\n",
       "    }\n",
       "</style>\n",
       "<table border=\"1\" class=\"dataframe\">\n",
       "  <thead>\n",
       "    <tr style=\"text-align: right;\">\n",
       "      <th></th>\n",
       "      <th>mean</th>\n",
       "      <th>stddev</th>\n",
       "      <th>hdi_3%</th>\n",
       "      <th>mode</th>\n",
       "      <th>hdi_97%</th>\n",
       "    </tr>\n",
       "  </thead>\n",
       "  <tbody>\n",
       "    <tr>\n",
       "      <th>weights[0]</th>\n",
       "      <td>0.327</td>\n",
       "      <td>0.053</td>\n",
       "      <td>0.231</td>\n",
       "      <td>0.326</td>\n",
       "      <td>0.428</td>\n",
       "    </tr>\n",
       "    <tr>\n",
       "      <th>weights[1]</th>\n",
       "      <td>0.351</td>\n",
       "      <td>0.066</td>\n",
       "      <td>0.238</td>\n",
       "      <td>0.346</td>\n",
       "      <td>0.486</td>\n",
       "    </tr>\n",
       "    <tr>\n",
       "      <th>weights[2]</th>\n",
       "      <td>0.322</td>\n",
       "      <td>0.063</td>\n",
       "      <td>0.207</td>\n",
       "      <td>0.316</td>\n",
       "      <td>0.446</td>\n",
       "    </tr>\n",
       "    <tr>\n",
       "      <th>loc[0]</th>\n",
       "      <td>-1.937</td>\n",
       "      <td>0.492</td>\n",
       "      <td>-2.877</td>\n",
       "      <td>-1.933</td>\n",
       "      <td>-0.984</td>\n",
       "    </tr>\n",
       "    <tr>\n",
       "      <th>loc[1]</th>\n",
       "      <td>11.671</td>\n",
       "      <td>0.209</td>\n",
       "      <td>11.291</td>\n",
       "      <td>11.669</td>\n",
       "      <td>12.060</td>\n",
       "    </tr>\n",
       "    <tr>\n",
       "      <th>loc[2]</th>\n",
       "      <td>8.104</td>\n",
       "      <td>0.674</td>\n",
       "      <td>6.830</td>\n",
       "      <td>8.137</td>\n",
       "      <td>9.331</td>\n",
       "    </tr>\n",
       "    <tr>\n",
       "      <th>scale[0]</th>\n",
       "      <td>2.637</td>\n",
       "      <td>0.377</td>\n",
       "      <td>1.937</td>\n",
       "      <td>2.635</td>\n",
       "      <td>3.341</td>\n",
       "    </tr>\n",
       "    <tr>\n",
       "      <th>scale[1]</th>\n",
       "      <td>1.012</td>\n",
       "      <td>0.188</td>\n",
       "      <td>0.682</td>\n",
       "      <td>1.000</td>\n",
       "      <td>1.393</td>\n",
       "    </tr>\n",
       "    <tr>\n",
       "      <th>scale[2]</th>\n",
       "      <td>2.534</td>\n",
       "      <td>0.468</td>\n",
       "      <td>1.664</td>\n",
       "      <td>2.532</td>\n",
       "      <td>3.419</td>\n",
       "    </tr>\n",
       "  </tbody>\n",
       "</table>\n",
       "</div>"
      ],
      "text/plain": [
       "              mean  stddev  hdi_3%    mode  hdi_97%\n",
       "weights[0]   0.327   0.053   0.231   0.326    0.428\n",
       "weights[1]   0.351   0.066   0.238   0.346    0.486\n",
       "weights[2]   0.322   0.063   0.207   0.316    0.446\n",
       "loc[0]      -1.937   0.492  -2.877  -1.933   -0.984\n",
       "loc[1]      11.671   0.209  11.291  11.669   12.060\n",
       "loc[2]       8.104   0.674   6.830   8.137    9.331\n",
       "scale[0]     2.637   0.377   1.937   2.635    3.341\n",
       "scale[1]     1.012   0.188   0.682   1.000    1.393\n",
       "scale[2]     2.534   0.468   1.664   2.532    3.419"
      ]
     },
     "execution_count": 152,
     "metadata": {},
     "output_type": "execute_result"
    }
   ],
   "source": [
    "az.summary(\n",
    "    posterior_samples,\n",
    "    stat_funcs=func_dict,\n",
    "    extend=False\n",
    ")"
   ]
  },
  {
   "cell_type": "code",
   "execution_count": 153,
   "metadata": {},
   "outputs": [
    {
     "data": {
      "text/plain": [
       "(<tf.Tensor: shape=(3,), dtype=float32, numpy=array([0.32, 0.38, 0.3 ], dtype=float32)>,\n",
       " <tf.Tensor: shape=(3,), dtype=float32, numpy=array([12.,  8., -2.], dtype=float32)>,\n",
       " <tf.Tensor: shape=(3,), dtype=float32, numpy=array([1., 3., 2.], dtype=float32)>)"
      ]
     },
     "execution_count": 153,
     "metadata": {},
     "output_type": "execute_result"
    }
   ],
   "source": [
    "true_component_weights, true_locs, true_scales"
   ]
  },
  {
   "cell_type": "markdown",
   "metadata": {},
   "source": [
    "## MCMC"
   ]
  },
  {
   "cell_type": "code",
   "execution_count": null,
   "metadata": {},
   "outputs": [],
   "source": [
    "# sampling params\n",
    "NUM_CHAINS = 5\n",
    "NUM_SAMPLES = 1000\n",
    "NUM_BURNIN_STEPS = 10000"
   ]
  },
  {
   "cell_type": "code",
   "execution_count": null,
   "metadata": {},
   "outputs": [],
   "source": [
    "# define step size adaptation\n",
    "step_size_adaptation_kernel = DualAveragingStepSizeAdaptation(num_adaptation_steps=int(NUM_BURNIN_STEPS*0.8))\n",
    "#step_size_adaptation_kernel = None\n",
    "\n",
    "# define Markov Transition Kernel\n",
    "kernel = NoUTurnSampler(step_size=0.01, max_tree_depth=5, stepsize_adaptation_kernel=step_size_adaptation_kernel)"
   ]
  },
  {
   "cell_type": "code",
   "execution_count": null,
   "metadata": {},
   "outputs": [],
   "source": [
    "# define inference object (model, data, bijectors)\n",
    "mcmc = MCMC(model=model, dataset=dataset, transition_kernel=kernel)"
   ]
  },
  {
   "cell_type": "markdown",
   "metadata": {},
   "source": [
    "#### MCMC fit"
   ]
  },
  {
   "cell_type": "code",
   "execution_count": null,
   "metadata": {},
   "outputs": [],
   "source": [
    "# use mcmc with defined kernel and sample\n",
    "result = mcmc.fit(\n",
    "    num_chains=NUM_CHAINS, \n",
    "    num_samples=NUM_SAMPLES, \n",
    "    num_burnin_steps=NUM_BURNIN_STEPS,\n",
    "    progress_bar=True\n",
    ")"
   ]
  },
  {
   "cell_type": "markdown",
   "metadata": {},
   "source": [
    "#### Visualize Results\n"
   ]
  },
  {
   "cell_type": "code",
   "execution_count": null,
   "metadata": {},
   "outputs": [],
   "source": [
    "print('Acceptance ratios per chain: {}'.format(result.accept_ratios))"
   ]
  },
  {
   "cell_type": "code",
   "execution_count": null,
   "metadata": {},
   "outputs": [],
   "source": [
    "posterior_samples = OrderedDict([(k, np.swapaxes(v.numpy(), 0,1)) for k, v in zip(model.param_names, result.samples)])"
   ]
  },
  {
   "cell_type": "code",
   "execution_count": null,
   "metadata": {},
   "outputs": [],
   "source": [
    "true_component_weights, true_locs, true_scales"
   ]
  },
  {
   "cell_type": "code",
   "execution_count": null,
   "metadata": {},
   "outputs": [],
   "source": [
    "az.summary(posterior_samples, round_to=2)"
   ]
  },
  {
   "cell_type": "code",
   "execution_count": null,
   "metadata": {},
   "outputs": [],
   "source": []
  },
  {
   "cell_type": "code",
   "execution_count": null,
   "metadata": {},
   "outputs": [],
   "source": []
  }
 ],
 "metadata": {
  "kernelspec": {
   "display_name": "Python 3.8",
   "language": "python",
   "name": "py38"
  },
  "language_info": {
   "codemirror_mode": {
    "name": "ipython",
    "version": 3
   },
   "file_extension": ".py",
   "mimetype": "text/x-python",
   "name": "python",
   "nbconvert_exporter": "python",
   "pygments_lexer": "ipython3",
   "version": "3.8.5"
  }
 },
 "nbformat": 4,
 "nbformat_minor": 4
}
