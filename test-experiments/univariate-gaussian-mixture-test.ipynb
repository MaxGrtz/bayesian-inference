{
 "cells": [
  {
   "cell_type": "code",
   "execution_count": 1,
   "metadata": {},
   "outputs": [],
   "source": [
    "import warnings\n",
    "\n",
    "from collections import OrderedDict\n",
    "import functools\n",
    "import numpy as np\n",
    "import pandas as pd\n",
    "import matplotlib.pyplot as plt\n",
    "\n",
    "import seaborn as sns\n",
    "# use ggplot styles for graphs\n",
    "plt.style.use('ggplot')\n",
    "\n",
    "import arviz as az\n",
    "warnings.filterwarnings(\"ignore\")\n",
    "warnings.simplefilter('ignore')"
   ]
  },
  {
   "cell_type": "code",
   "execution_count": 2,
   "metadata": {},
   "outputs": [],
   "source": [
    "import tensorflow as tf\n",
    "import tensorflow_probability as tfp\n",
    "import pymc3 as pm\n",
    "\n",
    "# set tf logger to log level ERROR to avoid warnings\n",
    "tf.get_logger().setLevel('ERROR')\n",
    "\n",
    "tfd = tfp.distributions\n",
    "tfb = tfp.bijectors\n",
    "tfk = tf.keras"
   ]
  },
  {
   "cell_type": "code",
   "execution_count": 3,
   "metadata": {},
   "outputs": [],
   "source": [
    "# import probabilistic models\n",
    "from bayes_vi.models import Model\n",
    "\n",
    "# import utils\n",
    "from bayes_vi.utils.datasets import make_dataset_from_df"
   ]
  },
  {
   "cell_type": "code",
   "execution_count": 4,
   "metadata": {},
   "outputs": [],
   "source": [
    "# mcmc imports\n",
    "from bayes_vi.inference.mcmc import MCMC\n",
    "from bayes_vi.inference.mcmc.transition_kernels import HamiltonianMonteCarlo, NoUTurnSampler, RandomWalkMetropolis\n",
    "from bayes_vi.inference.mcmc.stepsize_adaptation_kernels import SimpleStepSizeAdaptation, DualAveragingStepSizeAdaptation"
   ]
  },
  {
   "cell_type": "code",
   "execution_count": 5,
   "metadata": {},
   "outputs": [],
   "source": [
    "# vi imports \n",
    "from bayes_vi.inference.vi import VI\n",
    "\n",
    "from bayes_vi.inference.vi.surrogate_posteriors import ADVI, NormalizingFlow\n",
    "from bayes_vi.utils import to_ordered_dict\n",
    "from bayes_vi.inference.vi.flow_bijectors import HamiltonianFlow, AffineFlow, make_energy_fn, make_scale_fn, make_shift_fn\n",
    "from bayes_vi.utils.leapfrog_integrator import LeapfrogIntegrator"
   ]
  },
  {
   "cell_type": "markdown",
   "metadata": {},
   "source": [
    "# Univariate Mixture of Gaussians"
   ]
  },
  {
   "cell_type": "markdown",
   "metadata": {},
   "source": [
    "## 1. Generate Test Data"
   ]
  },
  {
   "cell_type": "code",
   "execution_count": 6,
   "metadata": {},
   "outputs": [],
   "source": [
    "# generate parameters for the \"true\" underlying mixture model\n",
    "num_datapoints = 100\n",
    "\n",
    "true_component_n = 3\n",
    "\n",
    "true_locs = tf.constant(np.random.choice(a=list(range(-20,20+1)), size=true_component_n), dtype=tf.float32)\n",
    "\n",
    "true_scales = tf.constant(np.random.choice(a=list(range(1, 3+1)), size=true_component_n), dtype=tf.float32)\n",
    "\n",
    "selected_component = np.random.randint(0, true_component_n, 50)\n",
    "true_component_weights = tf.constant(np.histogram(a=selected_component, bins=np.arange(true_component_n+1))[0]/selected_component.size, dtype=tf.float32)"
   ]
  },
  {
   "cell_type": "code",
   "execution_count": 7,
   "metadata": {},
   "outputs": [
    {
     "data": {
      "text/plain": [
       "(<tf.Tensor: shape=(3,), dtype=float32, numpy=array([0.32, 0.26, 0.42], dtype=float32)>,\n",
       " <tf.Tensor: shape=(3,), dtype=float32, numpy=array([  6.,  -4., -13.], dtype=float32)>,\n",
       " <tf.Tensor: shape=(3,), dtype=float32, numpy=array([1., 3., 3.], dtype=float32)>)"
      ]
     },
     "execution_count": 7,
     "metadata": {},
     "output_type": "execute_result"
    }
   ],
   "source": [
    "true_component_weights, true_locs, true_scales"
   ]
  },
  {
   "cell_type": "code",
   "execution_count": 8,
   "metadata": {},
   "outputs": [
    {
     "data": {
      "text/plain": [
       "(TensorShape([100]), tf.float32)"
      ]
     },
     "execution_count": 8,
     "metadata": {},
     "output_type": "execute_result"
    }
   ],
   "source": [
    "# create data generating mixture of gaussians\n",
    "true_mvns = tfd.Normal(true_locs, true_scales)\n",
    "\n",
    "true_mixture = tfd.MixtureSameFamily(\n",
    "    mixture_distribution=tfd.Categorical(probs=true_component_weights),\n",
    "    components_distribution=true_mvns\n",
    ")\n",
    "\n",
    "# generate data points by sampling from the distribution\n",
    "y = true_mixture.sample(num_datapoints)\n",
    "y.shape, y.dtype"
   ]
  },
  {
   "cell_type": "code",
   "execution_count": 9,
   "metadata": {},
   "outputs": [
    {
     "data": {
      "text/html": [
       "<div>\n",
       "<style scoped>\n",
       "    .dataframe tbody tr th:only-of-type {\n",
       "        vertical-align: middle;\n",
       "    }\n",
       "\n",
       "    .dataframe tbody tr th {\n",
       "        vertical-align: top;\n",
       "    }\n",
       "\n",
       "    .dataframe thead th {\n",
       "        text-align: right;\n",
       "    }\n",
       "</style>\n",
       "<table border=\"1\" class=\"dataframe\">\n",
       "  <thead>\n",
       "    <tr style=\"text-align: right;\">\n",
       "      <th></th>\n",
       "      <th>y</th>\n",
       "    </tr>\n",
       "  </thead>\n",
       "  <tbody>\n",
       "    <tr>\n",
       "      <th>0</th>\n",
       "      <td>-9.161148</td>\n",
       "    </tr>\n",
       "    <tr>\n",
       "      <th>1</th>\n",
       "      <td>5.866095</td>\n",
       "    </tr>\n",
       "    <tr>\n",
       "      <th>2</th>\n",
       "      <td>-4.848359</td>\n",
       "    </tr>\n",
       "    <tr>\n",
       "      <th>3</th>\n",
       "      <td>-12.537849</td>\n",
       "    </tr>\n",
       "    <tr>\n",
       "      <th>4</th>\n",
       "      <td>-15.582583</td>\n",
       "    </tr>\n",
       "  </tbody>\n",
       "</table>\n",
       "</div>"
      ],
      "text/plain": [
       "           y\n",
       "0  -9.161148\n",
       "1   5.866095\n",
       "2  -4.848359\n",
       "3 -12.537849\n",
       "4 -15.582583"
      ]
     },
     "execution_count": 9,
     "metadata": {},
     "output_type": "execute_result"
    }
   ],
   "source": [
    "# construct pd.DataFrame\n",
    "data = pd.DataFrame({'y': y})\n",
    "data.head(5)"
   ]
  },
  {
   "cell_type": "code",
   "execution_count": 10,
   "metadata": {},
   "outputs": [
    {
     "data": {
      "text/plain": [
       "<AxesSubplot:ylabel='Density'>"
      ]
     },
     "execution_count": 10,
     "metadata": {},
     "output_type": "execute_result"
    },
    {
     "data": {
      "image/png": "[encoded data removed]",
      "text/plain": [
       "<Figure size 432x288 with 1 Axes>"
      ]
     },
     "metadata": {},
     "output_type": "display_data"
    }
   ],
   "source": [
    "data.plot(kind='kde')"
   ]
  },
  {
   "cell_type": "code",
   "execution_count": 11,
   "metadata": {},
   "outputs": [
    {
     "data": {
      "text/plain": [
       "<TensorSliceDataset shapes: ((), ()), types: (tf.float32, tf.float32)>"
      ]
     },
     "execution_count": 11,
     "metadata": {},
     "output_type": "execute_result"
    }
   ],
   "source": [
    "dataset = make_dataset_from_df(data, target_names=['y'], format_features_as='dict')\n",
    "dataset"
   ]
  },
  {
   "cell_type": "markdown",
   "metadata": {},
   "source": [
    "## 2. Define Model"
   ]
  },
  {
   "cell_type": "code",
   "execution_count": 12,
   "metadata": {},
   "outputs": [],
   "source": [
    "# assumed number of underlying gaussian distributions\n",
    "max_components = true_component_n"
   ]
  },
  {
   "cell_type": "code",
   "execution_count": 13,
   "metadata": {},
   "outputs": [],
   "source": [
    "priors = OrderedDict(\n",
    "    # prior for the weights of the individual gaussians\n",
    "    weights = tfd.Dirichlet(\n",
    "        concentration=tf.ones(max_components)\n",
    "    ),\n",
    "    # priors for the locations i.e. means of the gaussian components\n",
    "    loc = tfd.Normal(\n",
    "        loc=tf.zeros([max_components]),\n",
    "        scale=tf.ones([max_components])*10.0\n",
    "    ),\n",
    "    # priors for the scale i.e. stddev of the gaussian components\n",
    "    scale = tfd.HalfNormal(\n",
    "        scale=tf.ones([max_components])*10.0\n",
    "    )\n",
    ")\n",
    "\n",
    "# likelihood defining the gaussian mixture model\n",
    "def likelihood(weights, loc, scale):\n",
    "    return tfd.MixtureSameFamily(\n",
    "        mixture_distribution=tfd.Categorical(probs=weights),\n",
    "        components_distribution=tfd.Normal(\n",
    "            loc=loc, \n",
    "            scale=scale\n",
    "        )\n",
    "    )\n"
   ]
  },
  {
   "cell_type": "code",
   "execution_count": 14,
   "metadata": {},
   "outputs": [
    {
     "data": {
      "text/plain": [
       "<bayes_vi.models.Model at 0x7fec3fb21f40>"
      ]
     },
     "execution_count": 14,
     "metadata": {},
     "output_type": "execute_result"
    }
   ],
   "source": [
    "# construct model\n",
    "model = Model(\n",
    "    priors=priors,\n",
    "    likelihood=likelihood,\n",
    ")\n",
    "model"
   ]
  },
  {
   "cell_type": "code",
   "execution_count": 15,
   "metadata": {},
   "outputs": [
    {
     "data": {
      "text/plain": [
       "<tensorflow_probability.python.bijectors.chain.Chain at 0x7fec3ff51e80>"
      ]
     },
     "execution_count": 15,
     "metadata": {},
     "output_type": "execute_result"
    }
   ],
   "source": [
    "model.blockwise_constraining_bijector"
   ]
  },
  {
   "cell_type": "markdown",
   "metadata": {},
   "source": [
    "## 3. Variational Inference"
   ]
  },
  {
   "cell_type": "markdown",
   "metadata": {},
   "source": [
    "### Various Flow Bijectors"
   ]
  },
  {
   "cell_type": "code",
   "execution_count": 16,
   "metadata": {},
   "outputs": [],
   "source": [
    "def get_continuous_flow_bijector(unconstrained_event_dims):\n",
    "    state_fn = tfk.Sequential()\n",
    "    state_fn.add(tfk.layers.Dense(128, activation=tfk.activations.tanh))\n",
    "    state_fn.add(tfk.layers.Dense(128, activation=tfk.activations.tanh))\n",
    "    state_fn.add(tfk.layers.Dense(unconstrained_event_dims))\n",
    "    state_fn.build((None, unconstrained_event_dims+1))\n",
    "    state_time_derivative_fn = lambda t, state: state_fn(tf.concat([tf.fill((state.shape[0],1), t), state], axis=-1))\n",
    "    return tfb.FFJORD(state_time_derivative_fn, \n",
    "                      ode_solve_fn=tfp.math.ode.DormandPrince(first_step_size=0.1).solve, \n",
    "                      trace_augmentation_fn=tfb.ffjord.trace_jacobian_hutchinson)\n",
    "    \n",
    "def get_hamiltonian_flow_bijector(unconstrained_event_dims, num_flows):\n",
    "    return tfb.Chain([\n",
    "        HamiltonianFlow(\n",
    "            event_dims=unconstrained_event_dims,\n",
    "            symplectic_integrator=LeapfrogIntegrator(), \n",
    "            step_sizes=tf.Variable(0.1), \n",
    "            num_integration_steps=2,\n",
    "            hidden_layers=[128, 128]\n",
    "        ) for _ in range(num_flows)\n",
    "    ])\n",
    "\n",
    "def get_affine_flow_bijector(unconstrained_event_dims):\n",
    "    return AffineFlow(unconstrained_event_dims)\n"
   ]
  },
  {
   "cell_type": "code",
   "execution_count": 17,
   "metadata": {},
   "outputs": [],
   "source": [
    "step_size = tf.Variable(0.1)\n",
    "scale_fn = make_scale_fn(model.flat_unconstrained_param_event_ndims, hidden_layers=[128,128])\n",
    "shift_fn = make_shift_fn(model.flat_unconstrained_param_event_ndims, hidden_layers=[128,128])\n",
    "\n",
    "posterior_lift = lambda q: tfd.MultivariateNormalDiag(loc=shift_fn(q), scale_diag=scale_fn(q))"
   ]
  },
  {
   "cell_type": "markdown",
   "metadata": {},
   "source": [
    "### Various Surrogate Posteriors"
   ]
  },
  {
   "cell_type": "code",
   "execution_count": 28,
   "metadata": {},
   "outputs": [],
   "source": [
    "advi = ADVI(model, mean_field=False)\n",
    "\n",
    "hnf = NormalizingFlow(\n",
    "    model, \n",
    "    flow_bijector=tfb.Chain([\n",
    "        get_hamiltonian_flow_bijector(model.flat_unconstrained_param_event_ndims, 3),\n",
    "        get_affine_flow_bijector(model.flat_unconstrained_param_event_ndims*2)\n",
    "    ]),\n",
    "    extra_ndims=model.flat_unconstrained_param_event_ndims,\n",
    "    posterior_lift_distribution=posterior_lift\n",
    ")\n",
    " \n",
    "affine_flow = NormalizingFlow(\n",
    "    model,\n",
    "    flow_bijector=get_affine_flow_bijector(model.flat_unconstrained_param_event_ndims)\n",
    ")\n",
    "\n",
    "cnf = NormalizingFlow(\n",
    "    model,\n",
    "    flow_bijector=get_continuous_flow_bijector(model.flat_unconstrained_param_event_ndims)\n",
    ")"
   ]
  },
  {
   "cell_type": "markdown",
   "metadata": {},
   "source": [
    "### VI fit"
   ]
  },
  {
   "cell_type": "code",
   "execution_count": 29,
   "metadata": {},
   "outputs": [],
   "source": [
    "vi = VI(model, dataset, surrogate_posterior=hnf, \n",
    "        discrepancy_fn=tfp.vi.kl_reverse)"
   ]
  },
  {
   "cell_type": "code",
   "execution_count": 30,
   "metadata": {},
   "outputs": [],
   "source": [
    "NUM_STEPS = 10000\n",
    "SAMPLE_SIZE = 50\n",
    "LEARNING_RATE = 1e-3"
   ]
  },
  {
   "cell_type": "code",
   "execution_count": 31,
   "metadata": {},
   "outputs": [],
   "source": [
    "optimizer = tf.optimizers.Adam(learning_rate=LEARNING_RATE)"
   ]
  },
  {
   "cell_type": "code",
   "execution_count": 32,
   "metadata": {},
   "outputs": [
    {
     "data": {
      "text/html": [
       "\n",
       "    <div>\n",
       "        <style>\n",
       "            /* Turns off some styling */\n",
       "            progress {\n",
       "                /* gets rid of default border in Firefox and Opera. */\n",
       "                border: none;\n",
       "                /* Needs to be in here for Safari polyfill so background images work as expected. */\n",
       "                background-size: auto;\n",
       "            }\n",
       "            .progress-bar-interrupted, .progress-bar-interrupted::-webkit-progress-bar {\n",
       "                background: #F44336;\n",
       "            }\n",
       "        </style>\n",
       "      <progress value='10000' class='' max='10000' style='width:300px; height:20px; vertical-align: middle;'></progress>\n",
       "      100.00% [10000/10000 02:09<00:00 avg loss: 329.850]\n",
       "    </div>\n",
       "    "
      ],
      "text/plain": [
       "<IPython.core.display.HTML object>"
      ]
     },
     "metadata": {},
     "output_type": "display_data"
    }
   ],
   "source": [
    "approx_posterior, losses = vi.fit(optimizer=optimizer, num_steps=NUM_STEPS, sample_size=SAMPLE_SIZE)"
   ]
  },
  {
   "cell_type": "code",
   "execution_count": 33,
   "metadata": {},
   "outputs": [
    {
     "data": {
      "text/plain": [
       "[<matplotlib.lines.Line2D at 0x7fec2f1b0070>]"
      ]
     },
     "execution_count": 33,
     "metadata": {},
     "output_type": "execute_result"
    },
    {
     "data": {
      "image/png": "[encoded data removed]",
      "text/plain": [
       "<Figure size 432x288 with 1 Axes>"
      ]
     },
     "metadata": {},
     "output_type": "display_data"
    }
   ],
   "source": [
    "plt.plot(losses)"
   ]
  },
  {
   "cell_type": "code",
   "execution_count": 34,
   "metadata": {},
   "outputs": [],
   "source": [
    "posterior_samples = approx_posterior.sample(1000)"
   ]
  },
  {
   "cell_type": "code",
   "execution_count": 35,
   "metadata": {},
   "outputs": [],
   "source": [
    "posterior_samples = OrderedDict([(k, tf.expand_dims(v, axis=1)) for k,v in posterior_samples.items()])"
   ]
  },
  {
   "cell_type": "markdown",
   "metadata": {},
   "source": [
    "#### Visualize Results"
   ]
  },
  {
   "cell_type": "code",
   "execution_count": 36,
   "metadata": {},
   "outputs": [],
   "source": [
    "func_dict = {\n",
    "    \"mean\": np.mean,\n",
    "    \"stddev\": np.std,\n",
    "    \"hdi_3%\": lambda x: np.percentile(x, 3),\n",
    "    \"mode\": lambda x: np.percentile(x, 50),\n",
    "    \"hdi_97%\": lambda x: np.percentile(x, 97),\n",
    "}"
   ]
  },
  {
   "cell_type": "code",
   "execution_count": 37,
   "metadata": {},
   "outputs": [
    {
     "name": "stderr",
     "output_type": "stream",
     "text": [
      "arviz - WARNING - Shape validation failed: input_shape: (1000, 1), minimum_shape: (chains=1, draws=4)\n"
     ]
    },
    {
     "data": {
      "text/html": [
       "<div>\n",
       "<style scoped>\n",
       "    .dataframe tbody tr th:only-of-type {\n",
       "        vertical-align: middle;\n",
       "    }\n",
       "\n",
       "    .dataframe tbody tr th {\n",
       "        vertical-align: top;\n",
       "    }\n",
       "\n",
       "    .dataframe thead th {\n",
       "        text-align: right;\n",
       "    }\n",
       "</style>\n",
       "<table border=\"1\" class=\"dataframe\">\n",
       "  <thead>\n",
       "    <tr style=\"text-align: right;\">\n",
       "      <th></th>\n",
       "      <th>mean</th>\n",
       "      <th>stddev</th>\n",
       "      <th>hdi_3%</th>\n",
       "      <th>mode</th>\n",
       "      <th>hdi_97%</th>\n",
       "    </tr>\n",
       "  </thead>\n",
       "  <tbody>\n",
       "    <tr>\n",
       "      <th>weights[0]</th>\n",
       "      <td>0.385</td>\n",
       "      <td>0.175</td>\n",
       "      <td>0.068</td>\n",
       "      <td>0.399</td>\n",
       "      <td>0.665</td>\n",
       "    </tr>\n",
       "    <tr>\n",
       "      <th>weights[1]</th>\n",
       "      <td>0.334</td>\n",
       "      <td>0.050</td>\n",
       "      <td>0.244</td>\n",
       "      <td>0.332</td>\n",
       "      <td>0.428</td>\n",
       "    </tr>\n",
       "    <tr>\n",
       "      <th>weights[2]</th>\n",
       "      <td>0.281</td>\n",
       "      <td>0.175</td>\n",
       "      <td>0.023</td>\n",
       "      <td>0.263</td>\n",
       "      <td>0.607</td>\n",
       "    </tr>\n",
       "    <tr>\n",
       "      <th>loc[0]</th>\n",
       "      <td>-9.989</td>\n",
       "      <td>2.885</td>\n",
       "      <td>-14.577</td>\n",
       "      <td>-10.432</td>\n",
       "      <td>-3.634</td>\n",
       "    </tr>\n",
       "    <tr>\n",
       "      <th>loc[1]</th>\n",
       "      <td>5.858</td>\n",
       "      <td>0.165</td>\n",
       "      <td>5.549</td>\n",
       "      <td>5.856</td>\n",
       "      <td>6.165</td>\n",
       "    </tr>\n",
       "    <tr>\n",
       "      <th>loc[2]</th>\n",
       "      <td>-8.344</td>\n",
       "      <td>3.957</td>\n",
       "      <td>-14.851</td>\n",
       "      <td>-8.816</td>\n",
       "      <td>0.646</td>\n",
       "    </tr>\n",
       "    <tr>\n",
       "      <th>scale[0]</th>\n",
       "      <td>4.999</td>\n",
       "      <td>1.224</td>\n",
       "      <td>2.473</td>\n",
       "      <td>5.065</td>\n",
       "      <td>7.082</td>\n",
       "    </tr>\n",
       "    <tr>\n",
       "      <th>scale[1]</th>\n",
       "      <td>0.871</td>\n",
       "      <td>0.128</td>\n",
       "      <td>0.664</td>\n",
       "      <td>0.860</td>\n",
       "      <td>1.148</td>\n",
       "    </tr>\n",
       "    <tr>\n",
       "      <th>scale[2]</th>\n",
       "      <td>5.278</td>\n",
       "      <td>1.713</td>\n",
       "      <td>2.029</td>\n",
       "      <td>5.328</td>\n",
       "      <td>8.600</td>\n",
       "    </tr>\n",
       "  </tbody>\n",
       "</table>\n",
       "</div>"
      ],
      "text/plain": [
       "             mean  stddev  hdi_3%    mode  hdi_97%\n",
       "weights[0]  0.385   0.175   0.068   0.399    0.665\n",
       "weights[1]  0.334   0.050   0.244   0.332    0.428\n",
       "weights[2]  0.281   0.175   0.023   0.263    0.607\n",
       "loc[0]     -9.989   2.885 -14.577 -10.432   -3.634\n",
       "loc[1]      5.858   0.165   5.549   5.856    6.165\n",
       "loc[2]     -8.344   3.957 -14.851  -8.816    0.646\n",
       "scale[0]    4.999   1.224   2.473   5.065    7.082\n",
       "scale[1]    0.871   0.128   0.664   0.860    1.148\n",
       "scale[2]    5.278   1.713   2.029   5.328    8.600"
      ]
     },
     "execution_count": 37,
     "metadata": {},
     "output_type": "execute_result"
    }
   ],
   "source": [
    "az.summary(\n",
    "    posterior_samples,\n",
    "    stat_funcs=func_dict,\n",
    "    extend=False\n",
    ")"
   ]
  },
  {
   "cell_type": "code",
   "execution_count": 38,
   "metadata": {},
   "outputs": [
    {
     "data": {
      "text/plain": [
       "(<tf.Tensor: shape=(3,), dtype=float32, numpy=array([0.32, 0.26, 0.42], dtype=float32)>,\n",
       " <tf.Tensor: shape=(3,), dtype=float32, numpy=array([  6.,  -4., -13.], dtype=float32)>,\n",
       " <tf.Tensor: shape=(3,), dtype=float32, numpy=array([1., 3., 3.], dtype=float32)>)"
      ]
     },
     "execution_count": 38,
     "metadata": {},
     "output_type": "execute_result"
    }
   ],
   "source": [
    "true_component_weights, true_locs, true_scales"
   ]
  },
  {
   "cell_type": "markdown",
   "metadata": {},
   "source": [
    "## MCMC"
   ]
  },
  {
   "cell_type": "code",
   "execution_count": null,
   "metadata": {},
   "outputs": [],
   "source": [
    "# sampling params\n",
    "NUM_CHAINS = 5\n",
    "NUM_SAMPLES = 1000\n",
    "NUM_BURNIN_STEPS = 10000"
   ]
  },
  {
   "cell_type": "code",
   "execution_count": null,
   "metadata": {},
   "outputs": [],
   "source": [
    "# define step size adaptation\n",
    "step_size_adaptation_kernel = DualAveragingStepSizeAdaptation(num_adaptation_steps=int(NUM_BURNIN_STEPS*0.8))\n",
    "#step_size_adaptation_kernel = None\n",
    "\n",
    "# define Markov Transition Kernel\n",
    "kernel = NoUTurnSampler(step_size=0.01, max_tree_depth=5, stepsize_adaptation_kernel=step_size_adaptation_kernel)"
   ]
  },
  {
   "cell_type": "code",
   "execution_count": null,
   "metadata": {},
   "outputs": [],
   "source": [
    "# define inference object (model, data, bijectors)\n",
    "mcmc = MCMC(model=model, dataset=dataset, transition_kernel=kernel)"
   ]
  },
  {
   "cell_type": "markdown",
   "metadata": {},
   "source": [
    "#### MCMC fit"
   ]
  },
  {
   "cell_type": "code",
   "execution_count": null,
   "metadata": {},
   "outputs": [],
   "source": [
    "# use mcmc with defined kernel and sample\n",
    "result = mcmc.fit(\n",
    "    num_chains=NUM_CHAINS, \n",
    "    num_samples=NUM_SAMPLES, \n",
    "    num_burnin_steps=NUM_BURNIN_STEPS,\n",
    "    progress_bar=True\n",
    ")"
   ]
  },
  {
   "cell_type": "markdown",
   "metadata": {},
   "source": [
    "#### Visualize Results\n"
   ]
  },
  {
   "cell_type": "code",
   "execution_count": null,
   "metadata": {},
   "outputs": [],
   "source": [
    "print('Acceptance ratios per chain: {}'.format(result.accept_ratios))"
   ]
  },
  {
   "cell_type": "code",
   "execution_count": null,
   "metadata": {},
   "outputs": [],
   "source": [
    "posterior_samples = OrderedDict([(k, np.swapaxes(v.numpy(), 0,1)) for k, v in zip(model.param_names, result.samples)])"
   ]
  },
  {
   "cell_type": "code",
   "execution_count": null,
   "metadata": {},
   "outputs": [],
   "source": [
    "true_component_weights, true_locs, true_scales"
   ]
  },
  {
   "cell_type": "code",
   "execution_count": null,
   "metadata": {},
   "outputs": [],
   "source": [
    "az.summary(posterior_samples, round_to=2)"
   ]
  },
  {
   "cell_type": "code",
   "execution_count": null,
   "metadata": {},
   "outputs": [],
   "source": []
  },
  {
   "cell_type": "code",
   "execution_count": null,
   "metadata": {},
   "outputs": [],
   "source": []
  }
 ],
 "metadata": {
  "kernelspec": {
   "display_name": "Python 3.8",
   "language": "python",
   "name": "py38"
  },
  "language_info": {
   "codemirror_mode": {
    "name": "ipython",
    "version": 3
   },
   "file_extension": ".py",
   "mimetype": "text/x-python",
   "name": "python",
   "nbconvert_exporter": "python",
   "pygments_lexer": "ipython3",
   "version": "3.8.5"
  }
 },
 "nbformat": 4,
 "nbformat_minor": 4
}
